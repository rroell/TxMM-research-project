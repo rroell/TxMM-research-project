{
 "cells": [
  {
   "attachments": {},
   "cell_type": "markdown",
   "metadata": {},
   "source": [
    "<h1>Welcome to my TxMM project</h1> This project is about the missing of Hebe and Sanne in October 2022 in the Netherlands.\n",
    "\n",
    "By: Roel Duijsings"
   ]
  },
  {
   "attachments": {},
   "cell_type": "markdown",
   "metadata": {},
   "source": [
    "<h2>Load the training data</h2>"
   ]
  },
  {
   "attachments": {},
   "cell_type": "markdown",
   "metadata": {},
   "source": [
    "<h3>Rewrite training data: replace tweet_id by tweet_text</h3>\n",
    "Creates a training_data_{limit}.csv file"
   ]
  },
  {
   "cell_type": "code",
   "execution_count": 10,
   "metadata": {},
   "outputs": [
    {
     "name": "stdout",
     "output_type": "stream",
     "text": [
      "- - - Finished loading training data - - -\n"
     ]
    }
   ],
   "source": [
    "from snscrape.modules.twitter import TwitterTweetScraper\n",
    "import pandas as pd\n",
    "from preprocess import replacePlaceholders\n",
    "\n",
    "limit = 10\n",
    "tweets = []\n",
    "with open(\"EmotioNL_tweets.txt\") as f:\n",
    "    next(f)  # skip header\n",
    "    i = 0\n",
    "    # For every tweet in the file...\n",
    "    for line in f:\n",
    "        if i>=limit: break\n",
    "\n",
    "        line_splitted = line.split()\n",
    "        tweet_id = line_splitted[1][2:-2]\n",
    "        category = line_splitted[-1]\n",
    "\n",
    "        # TODO: check if this is needed, can it not be inserted directly into huggingface? read emails!!\n",
    "        try:\n",
    "            # ...scrape that tweet from Twitter using tweet_id\n",
    "            for tweet in TwitterTweetScraper(tweet_id).get_items():\n",
    "                text = replacePlaceholders(tweet.content)\n",
    "                # TODO: how to correctly save the data?\n",
    "                data_point = {\"label\": category, \"text\": text}\n",
    "                tweets.append(data_point)\n",
    "                # print(tweet_id, data_point)\n",
    "        except:\n",
    "            print(\"Something went wrong when scraping the tweets.\")\n",
    "            pass\n",
    "        i += 1\n",
    "\n",
    "training_data = pd.DataFrame(tweets)  # , columns=[\"Tweet_id\", \"Text\", \"Category\"])\n",
    "training_data.to_csv(f\"training_data_{len(training_data.index)}.csv\") # save as .csv file\n",
    "print(\"- - - Finished loading training data - - -\")"
   ]
  },
  {
   "attachments": {},
   "cell_type": "markdown",
   "metadata": {},
   "source": [
    "<h3> Train the model on the training data</h3>"
   ]
  },
  {
   "cell_type": "code",
   "execution_count": null,
   "metadata": {},
   "outputs": [],
   "source": [
    "from datasets.load import load_dataset\n",
    "data_file = \"training_data_10.csv\"\n",
    "train_dataset = load_dataset(\"csv\", data_files=data_file, split=\"train\")"
   ]
  },
  {
   "cell_type": "code",
   "execution_count": 4,
   "metadata": {},
   "outputs": [
    {
     "ename": "NameError",
     "evalue": "name 'dataset' is not defined",
     "output_type": "error",
     "traceback": [
      "\u001b[1;31m---------------------------------------------------------------------------\u001b[0m",
      "\u001b[1;31mNameError\u001b[0m                                 Traceback (most recent call last)",
      "Cell \u001b[1;32mIn[4], line 1\u001b[0m\n\u001b[1;32m----> 1\u001b[0m tokenized_dataset \u001b[39m=\u001b[39m dataset\u001b[39m.\u001b[39mmap(tokenize_function, batched\u001b[39m=\u001b[39m\u001b[39mTrue\u001b[39;00m)\n",
      "\u001b[1;31mNameError\u001b[0m: name 'dataset' is not defined"
     ]
    }
   ],
   "source": [
    "tokenized_dataset = dataset.map(tokenize_function, batched=True)\n"
   ]
  },
  {
   "attachments": {},
   "cell_type": "markdown",
   "metadata": {},
   "source": [
    "<h2>Load the testdata</h2>"
   ]
  },
  {
   "cell_type": "code",
   "execution_count": 2,
   "metadata": {},
   "outputs": [],
   "source": [
    "from preprocess import preprocess\n",
    "query = \"(hebe) lang:nl until:2022-10-21 since:2022-10-17\"\n",
    "maxTweets = 100000\n",
    "data = preprocess(query, maxTweets)"
   ]
  },
  {
   "cell_type": "code",
   "execution_count": 3,
   "metadata": {},
   "outputs": [],
   "source": [
    "data.to_csv(f\"tweets_{len(data.index)}.csv\")"
   ]
  }
 ],
 "metadata": {
  "kernelspec": {
   "display_name": ".venv",
   "language": "python",
   "name": "python3"
  },
  "language_info": {
   "codemirror_mode": {
    "name": "ipython",
    "version": 3
   },
   "file_extension": ".py",
   "mimetype": "text/x-python",
   "name": "python",
   "nbconvert_exporter": "python",
   "pygments_lexer": "ipython3",
   "version": "3.8.10"
  },
  "orig_nbformat": 4,
  "vscode": {
   "interpreter": {
    "hash": "f9d30fbf05ce77558cb150397de9b4d06863fc5a1680d1efda0ac74319a731bf"
   }
  }
 },
 "nbformat": 4,
 "nbformat_minor": 2
}
